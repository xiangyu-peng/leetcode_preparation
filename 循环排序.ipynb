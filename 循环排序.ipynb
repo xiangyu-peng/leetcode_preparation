{
 "cells": [
  {
   "cell_type": "markdown",
   "metadata": {},
   "source": [
    "\n",
    "## Cyclic Sort，**循环排序** O(n^2)\n",
    "\n",
    "这种模式讲述的是一直很好玩的方法：可以用来处理数组中的数值限定在一定的区间的问题。这种模式一个个遍历数组中的元素，如果当前这个数它不在其应该在的位置的话，咱们就把它和它应该在的那个位置上的数交换一下。你可以尝试将该数放到其正确的位置上，但这复杂度就会是O(n^2)。这样的话，可能就不是最优解了。因此循环排序的优势就体现出来了。\n",
    "\n",
    "![](https://pic1.zhimg.com/50/v2-e5a2fe3faa0b55ad5c6d8f182039cd35_hd.jpg?source=1940ef5c)\n",
    "\n",
    "咋鉴别这种模式？\n",
    "\n",
    "  * 这些问题一般设计到排序好的数组，而且数值一般满足于一定的区间\n",
    "  * 如果问题让你需要在排好序/翻转过的数组中，寻找丢失的/重复的/最小的元素\n"
   ]
  },
  {
   "cell_type": "markdown",
   "metadata": {},
   "source": [
    "### Find All Duplicates in an Array\n",
    "Given an array of integers, 1 ≤ a[i] ≤ _n_ (_n_ = size of array), some elements appear **twice** and others appear **once**.\n",
    "\n",
    "Find all the elements that appear **twice** in this array.\n",
    "\n",
    "Could you do it without extra space and in O(_n_) runtime?\n",
    "\n",
    "**Example:**  \n",
    "\n",
    "**Input:** [4,3,2,7,8,2,3,1] \n",
    "\n",
    "**Output:** [2,3]\n"
   ]
  },
  {
   "cell_type": "code",
   "execution_count": 5,
   "metadata": {},
   "outputs": [],
   "source": [
    "def findDuplicates(nums):\n",
    "        stop = 0\n",
    "        pointer = 0\n",
    "        if not nums:\n",
    "            return nums\n",
    "        while pointer < len(nums):            \n",
    "            should_be_loc = nums[pointer] - 1\n",
    "            if pointer != should_be_loc and nums[should_be_loc] != nums[pointer]:\n",
    "                nums[should_be_loc], nums[pointer] = nums[pointer], nums[should_be_loc]\n",
    "            else:\n",
    "                pointer += 1\n",
    "\n",
    "        return_list = []\n",
    "        i = 0\n",
    "        while i < len(nums):\n",
    "            if nums[i] != i + 1:\n",
    "                return_list.append(nums[i])\n",
    "            i += 1\n",
    "        return return_list\n",
    "assert(sorted(findDuplicates([1,1,2,2,3])) == [1,2]), 'wrong'"
   ]
  },
  {
   "cell_type": "code",
   "execution_count": null,
   "metadata": {},
   "outputs": [],
   "source": []
  }
 ],
 "metadata": {
  "kernelspec": {
   "display_name": "Python 3",
   "language": "python",
   "name": "python3"
  },
  "language_info": {
   "codemirror_mode": {
    "name": "ipython",
    "version": 3
   },
   "file_extension": ".py",
   "mimetype": "text/x-python",
   "name": "python",
   "nbconvert_exporter": "python",
   "pygments_lexer": "ipython3",
   "version": "3.7.9"
  },
  "toc": {
   "base_numbering": 1,
   "nav_menu": {},
   "number_sections": true,
   "sideBar": true,
   "skip_h1_title": false,
   "title_cell": "Table of Contents",
   "title_sidebar": "Contents",
   "toc_cell": false,
   "toc_position": {},
   "toc_section_display": true,
   "toc_window_display": false
  },
  "varInspector": {
   "cols": {
    "lenName": 16,
    "lenType": 16,
    "lenVar": 40
   },
   "kernels_config": {
    "python": {
     "delete_cmd_postfix": "",
     "delete_cmd_prefix": "del ",
     "library": "var_list.py",
     "varRefreshCmd": "print(var_dic_list())"
    },
    "r": {
     "delete_cmd_postfix": ") ",
     "delete_cmd_prefix": "rm(",
     "library": "var_list.r",
     "varRefreshCmd": "cat(var_dic_list()) "
    }
   },
   "types_to_exclude": [
    "module",
    "function",
    "builtin_function_or_method",
    "instance",
    "_Feature"
   ],
   "window_display": false
  }
 },
 "nbformat": 4,
 "nbformat_minor": 4
}
