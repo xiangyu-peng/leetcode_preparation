{
 "cells": [
  {
   "cell_type": "markdown",
   "metadata": {},
   "source": [
    "##  Pattern: Merge Intervals，**区间合并类型**\n",
    "\n",
    "tip:认真分类讨论！！！\n",
    "区间合并模式是一个用来处理有区间重叠的很高效的技术。在设计到区间的很多问题中，通常咱们需要要么判断是否有重叠，要么合并区间，如果他们重叠的话。这个模式是这么起作用的：\n",
    "\n",
    "给两个区间，一个是a，另外一个是b。别小看就两个区间，他们之间的关系能跑出来6种情况。详细的就看图啦。\n",
    "\n",
    "![](https://pic1.zhimg.com/50/v2-603053309be9d035b3c8ccee773e46e7_hd.jpg?source=1940ef5c)![](https://pic1.zhimg.com/80/v2-603053309be9d035b3c8ccee773e46e7_1440w.jpg?source=1940ef5c)\n",
    "\n",
    "  \n",
    "\n",
    "\n",
    "理解和识别这六种情况，灰常重要。因为这能帮你解决一大堆问题。这些问题从插入区间到优化区间合并都有。\n",
    "\n",
    "怎么识别啥时候用合并区间模式呀？\n",
    "\n",
    "  * 当你需要产生一堆相互之间没有交集的区间的时候\n",
    "  * 当你听到重叠区间的时候\n"
   ]
  },
  {
   "cell_type": "markdown",
   "metadata": {},
   "source": [
    "###  Insert Interval\n",
    "Given a set of _non-overlapping_ intervals, insert a new interval into the intervals (merge if necessary).\n",
    "\n",
    "You may assume that the intervals were initially sorted according to their start times.\n",
    "\n",
    " \n",
    "\n",
    "**Example 1:**\n",
    "    \n",
    "    **Input:** intervals = [[1,3],[6,9]], newInterval = [2,5] **Output:** [[1,5],[6,9]] \n",
    "\n",
    "**Example 2:**\n",
    "    \n",
    "    **Input:** intervals = [[1,2],[3,5],[6,7],[8,10],[12,16]], newInterval = [4,8] **Output:** [[1,2],[3,10],[12,16]] **Explanation:** Because the new interval [4,8] overlaps with [3,5],[6,7],[8,10].\n"
   ]
  },
  {
   "cell_type": "code",
   "execution_count": 2,
   "metadata": {},
   "outputs": [],
   "source": [
    "def insert(intervals, newInterval):\n",
    "        l, r = newInterval\n",
    "        left, right, merge = [], [], []\n",
    "        for idx, interval in enumerate(intervals):\n",
    "            if interval[-1] < l:\n",
    "                left.append(interval)\n",
    "            elif interval[0] > r:\n",
    "                right.append(interval)\n",
    "            else:\n",
    "                merge.append(interval)\n",
    "        merge.append(newInterval)\n",
    "        l = min([i[0] for i in merge])\n",
    "        r = max([i[1] for i in merge])\n",
    "        return left + [[l, r]] + right\n",
    "\n",
    "assert(insert([[2,3],[5,6]], [1,7]) == [[1,7]]), 'wrong'"
   ]
  },
  {
   "cell_type": "markdown",
   "metadata": {},
   "source": [
    "#### Interval List Intersections\n",
    "Given two lists of **closed** intervals, each list of intervals is pairwise disjoint and in sorted order.\n",
    "\n",
    "Return the intersection of these two interval lists.\n",
    "\n",
    "_(Formally, a closed interval `[a, b]` (with `a <= b`) denotes the set of real numbers `x` with `a <= x <= b`.  The intersection of two closed intervals is a set of real numbers that is either empty, or can be represented as a closed interval.  For example, the intersection of [1, 3] and [2, 4] is [2, 3].)_\n",
    "\n",
    " \n",
    "\n",
    "**Example 1:**\n",
    "\n",
    "**![](https://assets.leetcode.com/uploads/2019/01/30/interval1.png)**\n",
    "    \n",
    "* **Input**: \n",
    "    **A** = [[0,2],[5,10],[13,23],[24,25]], \n",
    "    \n",
    "    **B** = [[1,5],[8,12],[15,24],[25,26]] \n",
    "    \n",
    "    **Output:** [[1,2],[5,5],[8,10],[15,23],[24,24],[25,25]]\n"
   ]
  },
  {
   "cell_type": "code",
   "execution_count": null,
   "metadata": {},
   "outputs": [],
   "source": []
  }
 ],
 "metadata": {
  "kernelspec": {
   "display_name": "Python 3",
   "language": "python",
   "name": "python3"
  },
  "language_info": {
   "codemirror_mode": {
    "name": "ipython",
    "version": 3
   },
   "file_extension": ".py",
   "mimetype": "text/x-python",
   "name": "python",
   "nbconvert_exporter": "python",
   "pygments_lexer": "ipython3",
   "version": "3.7.9"
  },
  "toc": {
   "base_numbering": 1,
   "nav_menu": {},
   "number_sections": true,
   "sideBar": true,
   "skip_h1_title": false,
   "title_cell": "Table of Contents",
   "title_sidebar": "Contents",
   "toc_cell": false,
   "toc_position": {},
   "toc_section_display": true,
   "toc_window_display": false
  },
  "varInspector": {
   "cols": {
    "lenName": 16,
    "lenType": 16,
    "lenVar": 40
   },
   "kernels_config": {
    "python": {
     "delete_cmd_postfix": "",
     "delete_cmd_prefix": "del ",
     "library": "var_list.py",
     "varRefreshCmd": "print(var_dic_list())"
    },
    "r": {
     "delete_cmd_postfix": ") ",
     "delete_cmd_prefix": "rm(",
     "library": "var_list.r",
     "varRefreshCmd": "cat(var_dic_list()) "
    }
   },
   "types_to_exclude": [
    "module",
    "function",
    "builtin_function_or_method",
    "instance",
    "_Feature"
   ],
   "window_display": false
  }
 },
 "nbformat": 4,
 "nbformat_minor": 4
}
