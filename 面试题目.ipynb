{
 "cells": [
  {
   "cell_type": "markdown",
   "metadata": {},
   "source": [
    "#### Password Creation\n",
    "A password manager wants to create new passwords using two strings given by the user, then combined to create a harder-to-guess combination. Given two strings, interleave the characters of the strings to create a new string. Beginning with an empty string, alternately append a character from string a and from string b. If one of the strings is exhausted before the other, append the remaining letters from the other string all at once. The result is the new password.\n",
    "\n",
    "E.g. a = \"hackerrank\" b = \"mountain\", result is \"hmaocuknetrariannk\"."
   ]
  },
  {
   "cell_type": "code",
   "execution_count": 3,
   "metadata": {
    "code_folding": []
   },
   "outputs": [],
   "source": [
    "def create_pwd(a, b):\n",
    "    generated_psw = ''\n",
    "    while len(a) > 0 and len(b) > 0:\n",
    "        generated_psw += a[0] + b[0]\n",
    "        a = a[1:]\n",
    "        b = b[1:]\n",
    "    if len(a) > 0:\n",
    "        generated_psw += a\n",
    "    else:\n",
    "        generated_psw += b\n",
    "    return generated_psw"
   ]
  },
  {
   "cell_type": "code",
   "execution_count": 9,
   "metadata": {},
   "outputs": [],
   "source": [
    "a = \"hackerrank\" \n",
    "b = \"mountain\"\n",
    "result = \"hmaocuknetrariannk\"\n",
    "assert create_pwd(a, b) == result"
   ]
  },
  {
   "cell_type": "markdown",
   "metadata": {},
   "source": [
    "#### Consolidating Partitions\n",
    "There is a computer with a hard drive that is partitioned into several partitions. The data needs to be moved around so that the minimum number of partitions are being used. Given how much space is currently being used on each partition, as well as the total capacity of each, what is the minimum number of partitions needed to hold all the data if it is moved around optimally?\n",
    "\n",
    "E.g. used = [3, 2, 1, 3, 1]; totalCapacity = [3, 5, 3, 5, 5]\n",
    "- Move all the data from the first partition to the second. This empties the first partition and second partition becomes full.\n",
    "- Move data from 3rd partition and 5th partition to the 4th partition; this empties the 3rd and 5th partitions and the 4th partition becomes full\n",
    "- By doing this, all the data can be fit into a minimum of 2 partitions. Return 2.\n"
   ]
  },
  {
   "cell_type": "code",
   "execution_count": 62,
   "metadata": {},
   "outputs": [],
   "source": [
    "def move_data(used, total):\n",
    "    pass"
   ]
  },
  {
   "cell_type": "code",
   "execution_count": 63,
   "metadata": {},
   "outputs": [],
   "source": [
    "used = [3,3,3]\n",
    "total = [5,5,5]\n",
    "move_data(used, total)"
   ]
  }
 ],
 "metadata": {
  "kernelspec": {
   "display_name": "Python 3",
   "language": "python",
   "name": "python3"
  },
  "language_info": {
   "codemirror_mode": {
    "name": "ipython",
    "version": 3
   },
   "file_extension": ".py",
   "mimetype": "text/x-python",
   "name": "python",
   "nbconvert_exporter": "python",
   "pygments_lexer": "ipython3",
   "version": "3.7.9"
  },
  "toc": {
   "base_numbering": 1,
   "nav_menu": {},
   "number_sections": true,
   "sideBar": true,
   "skip_h1_title": false,
   "title_cell": "Table of Contents",
   "title_sidebar": "Contents",
   "toc_cell": false,
   "toc_position": {},
   "toc_section_display": true,
   "toc_window_display": false
  },
  "varInspector": {
   "cols": {
    "lenName": 16,
    "lenType": 16,
    "lenVar": 40
   },
   "kernels_config": {
    "python": {
     "delete_cmd_postfix": "",
     "delete_cmd_prefix": "del ",
     "library": "var_list.py",
     "varRefreshCmd": "print(var_dic_list())"
    },
    "r": {
     "delete_cmd_postfix": ") ",
     "delete_cmd_prefix": "rm(",
     "library": "var_list.r",
     "varRefreshCmd": "cat(var_dic_list()) "
    }
   },
   "types_to_exclude": [
    "module",
    "function",
    "builtin_function_or_method",
    "instance",
    "_Feature"
   ],
   "window_display": false
  }
 },
 "nbformat": 4,
 "nbformat_minor": 4
}
