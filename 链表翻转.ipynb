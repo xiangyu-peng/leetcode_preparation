{
 "cells": [
  {
   "cell_type": "markdown",
   "metadata": {},
   "source": [
    "### In-place Reversal of a LinkedList，链表翻转\n",
    "在众多问题中，题目可能需要你去翻转链表中某一段的节点。通常，要求都是你得原地翻转，就是重复使用这些已经建好的节点，而不使用额外的空间。这个时候，原地翻转模式就要发挥威力了。这种模式每次就翻转一个节点。一般需要用到多个变量，一个变量指向头结点（下图中的current），另外一个（previous）则指向咱们刚刚处理完的那个节点。在这种固定步长的方式下，你需要先将当前节点（current）指向前一个节点（previous），再移动到下一个。同时，你需要将previous总是更新到你刚刚新鲜处理完的节点，以保证正确性。<img src=\"https://pic4.zhimg.com/50/v2-79af44147f0e31ef768b8867a43acac5_hd.jpg?source=1940ef5c\" data-rawwidth=\"1048\" data-rawheight=\"597\" data-size=\"normal\" data-caption=\"\" class=\"origin_image zh-lightbox-thumb\" width=\"1048\" data-original=\"https://pic1.zhimg.com/v2-79af44147f0e31ef768b8867a43acac5_r.jpg?source=1940ef5c\"/>咱们怎么去甄别这种模式呢？如果你被问到需要去翻转链表，要求不能使用额外空间的时候"
   ]
  },
  {
   "cell_type": "markdown",
   "metadata": {},
   "source": [
    "#### Reverse Linked List\n",
    "Reverse a singly linked list.\n",
    "\n",
    "**Example:**\n",
    "    \n",
    "   * **Input:** 1->2->3->4->5->NULL \n",
    "   * **Output:** 5->4->3->2->1->NULL \n",
    "\n",
    "**Follow up:**\n",
    "\n",
    "A linked list can be reversed either iteratively or recursively. Could you implement both?\n"
   ]
  },
  {
   "cell_type": "code",
   "execution_count": 16,
   "metadata": {},
   "outputs": [
    {
     "name": "stdout",
     "output_type": "stream",
     "text": [
      "5\n",
      "4\n",
      "3\n",
      "2\n",
      "1\n"
     ]
    }
   ],
   "source": [
    "class ListNode:\n",
    "    def __init__(self, val=0, next=None):\n",
    "        self.val = val\n",
    "        self.next = next\n",
    "\n",
    "head = [1,2,3,4,5]\n",
    "first = None\n",
    "for h in reversed(head):\n",
    "    first = ListNode(h, first) \n",
    "head = first\n",
    "\n",
    "#iterative\n",
    "def reverseList(head):\n",
    "        if not head:\n",
    "            return \n",
    "        current = None\n",
    "        previous = head\n",
    "        while previous:\n",
    "            _next = previous\n",
    "            previous = previous.next\n",
    "            _next.next = current\n",
    "            current = _next\n",
    "        return current\n",
    "\n",
    "# recursive\n",
    "def reverseList(head):\n",
    "    if not head or not head.next:\n",
    "        return head\n",
    "    node, head.next.next, head.next = reverseList(head.next), head, None\n",
    "    return node\n",
    "\n",
    "head = reverseList(head)\n",
    "while head:\n",
    "    print(head.val)\n",
    "    head = head.next\n"
   ]
  },
  {
   "cell_type": "code",
   "execution_count": null,
   "metadata": {},
   "outputs": [],
   "source": []
  },
  {
   "cell_type": "code",
   "execution_count": null,
   "metadata": {},
   "outputs": [],
   "source": []
  }
 ],
 "metadata": {
  "kernelspec": {
   "display_name": "Python 3",
   "language": "python",
   "name": "python3"
  },
  "language_info": {
   "codemirror_mode": {
    "name": "ipython",
    "version": 3
   },
   "file_extension": ".py",
   "mimetype": "text/x-python",
   "name": "python",
   "nbconvert_exporter": "python",
   "pygments_lexer": "ipython3",
   "version": "3.7.9"
  },
  "toc": {
   "base_numbering": 1,
   "nav_menu": {},
   "number_sections": true,
   "sideBar": true,
   "skip_h1_title": false,
   "title_cell": "Table of Contents",
   "title_sidebar": "Contents",
   "toc_cell": false,
   "toc_position": {},
   "toc_section_display": true,
   "toc_window_display": false
  },
  "varInspector": {
   "cols": {
    "lenName": 16,
    "lenType": 16,
    "lenVar": 40
   },
   "kernels_config": {
    "python": {
     "delete_cmd_postfix": "",
     "delete_cmd_prefix": "del ",
     "library": "var_list.py",
     "varRefreshCmd": "print(var_dic_list())"
    },
    "r": {
     "delete_cmd_postfix": ") ",
     "delete_cmd_prefix": "rm(",
     "library": "var_list.r",
     "varRefreshCmd": "cat(var_dic_list()) "
    }
   },
   "types_to_exclude": [
    "module",
    "function",
    "builtin_function_or_method",
    "instance",
    "_Feature"
   ],
   "window_display": false
  }
 },
 "nbformat": 4,
 "nbformat_minor": 4
}
