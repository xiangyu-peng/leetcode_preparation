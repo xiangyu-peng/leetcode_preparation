{
 "cells": [
  {
   "cell_type": "markdown",
   "metadata": {},
   "source": [
    "## Pattern: two points, 双指针类型"
   ]
  },
  {
   "cell_type": "markdown",
   "metadata": {},
   "source": [
    "双指针是这样的模式：两个指针朝着左右方向移动（双指针分为同向双指针和异向双指针），直到他们有一个或是两个都满足某种条件。双指针通常用在排好序的数组或是链表中寻找对子。比如，你需要去比较数组中每个元素和其他元素的关系时，你就需要用到双指针了。我们需要双指针的原因是：如果你只用一个指针的话，你得来回跑才能在数组中找到你需要的答案。这一个指针来来回回的过程就很耗时和浪费空间了 — 这是考虑算法的复杂度分析的时候的重要概念。虽然brute force一个指针的解法可能会奏效，但时间复杂度一般会是O(n²)。在很多情况下，双指针能帮助我们找到空间或是时间复杂度更低的解。\n",
    "\n",
    "<img src=\"https://pic4.zhimg.com/50/v2-961e3bfeff0b5f3323956b4198c2811b_hd.jpg?source=1940ef5c\" data-rawwidth=\"500\" data-rawheight=\"873\" data-size=\"normal\" class=\"origin_image zh-lightbox-thumb\" width=\"500\" data-original=\"https://pic4.zhimg.com/v2-961e3bfeff0b5f3323956b4198c2811b_r.jpg?source=1940ef5c\" align='left'>"
   ]
  },
  {
   "cell_type": "markdown",
   "metadata": {},
   "source": [
    "1. 左右指针：需要两个指针，一个指向开头，一个指向末尾，然后向中间遍历，直到满足条件或者两个指针相遇\n",
    "2. 快慢指针：需要两个指针，开始都指向开头，根据条件不同，快指针走得快，慢指针走的慢，直到满足条件或者快指针走到结尾\n",
    "3. 后序指针：常规指针操作是从前向后便利，对于合并和替换类型题，防止之前的数据被覆盖，双指针需从后向前遍历\n",
    "4. 记忆口诀：左右指针中间夹，快慢指针走到头，后序指针往回走"
   ]
  },
  {
   "cell_type": "markdown",
   "metadata": {},
   "source": [
    "### 左右指针\n",
    "#### Three Sums\n",
    "Given an array nums of n integers, are there elements a, b, c in nums such that a + b + c = 0? \n",
    "\n",
    "Find all unique triplets in the array which gives the sum of zero.\n",
    "\n",
    "Notice that the solution set must not contain duplicate triplets."
   ]
  },
  {
   "cell_type": "code",
   "execution_count": 16,
   "metadata": {},
   "outputs": [],
   "source": [
    "def threeSum(nums):\n",
    "    if len(nums) <= 2:\n",
    "        return []\n",
    "\n",
    "    nums.sort()\n",
    "    return_list = []\n",
    "\n",
    "    for idx in range(len(nums)):            \n",
    "\n",
    "        if nums[idx] != nums[idx - 1] or idx == 0:         \n",
    "\n",
    "            if idx < len(nums) - 2:\n",
    "                left = idx + 1\n",
    "                right = len(nums) - 1\n",
    "\n",
    "                while left < right:  \n",
    "                    s = nums[left] + nums[right] + nums[idx]\n",
    "                    if s == 0:\n",
    "                        append_list = [nums[idx], nums[left], nums[right]]\n",
    "                        return_list.append(append_list)                         \n",
    "                        left += 1\n",
    "                        right -= 1\n",
    "                        while left < right and nums[left] == nums[left - 1]: left +=1\n",
    "                        while left < right and nums[right] == nums[right + 1]: right -=1\n",
    "\n",
    "                    if s < 0:\n",
    "                        left += 1\n",
    "\n",
    "                    if s > 0:\n",
    "                        right -= 1\n",
    "\n",
    "    return return_list\n",
    "nums = [-1,0,1,2,-1,-4]\n",
    "assert (threeSum(nums) == [[-1,-1,2],[-1,0,1]]), 'wrong'"
   ]
  },
  {
   "cell_type": "markdown",
   "metadata": {},
   "source": [
    "### 快慢指针\n"
   ]
  },
  {
   "cell_type": "markdown",
   "metadata": {},
   "source": [
    "#### Remove Element\n",
    "Given an array nums and a value val, remove all instances of that value in-place and return the new length.\n",
    "\n",
    "Do not allocate extra space for another array, you must do this by modifying the input array in-place with O(1) extra memory.\n",
    "\n",
    "Examples:\n",
    "\n",
    "**Input:** nums = [3,2,2,3], val = 3 \n",
    "\n",
    "**Output:** 2, nums = [2,2] \n",
    "\n",
    "**Explanation:** Your function should return length = **2**, with the first two elements of _nums_ being **2**. \n",
    "\n",
    "It doesn't matter what you leave beyond the returned length. \n",
    "\n",
    "For example if you return 2 with nums = [2,2,3,3] or nums = [2,3,0,0], your answer will be accepted.\n",
    "\n",
    "题目分析：使用slow和fast两个指针，从头部开始遍历，遍历一次fast指针前进一步，当遍历元素不满足指定的值，slow指针前进一步，这样不满足条件的整数都被移动到数组的前面。"
   ]
  },
  {
   "cell_type": "code",
   "execution_count": 17,
   "metadata": {},
   "outputs": [],
   "source": [
    "def removeElement(nums, val):\n",
    "        slow, fast = 0, 0\n",
    "        n = len(nums)\n",
    "        while fast < n:\n",
    "            if nums[fast] != val:                \n",
    "                nums[slow] = nums[fast]  #把不满足的都转移到前面去\n",
    "                slow += 1\n",
    "            fast += 1\n",
    "        return slow;"
   ]
  },
  {
   "cell_type": "markdown",
   "metadata": {},
   "source": [
    "#### Move Zeroes\n",
    "  * Given an array `nums`, write a function to move all `0`'s to the end of it while maintaining the relative order of the non-zero elements.\n",
    "  * 题目要求：这道题让我们将一个给定数组中所有的0都移到后面，把非零数前移，要求不能改变非零数的相对应的位置关系，而且不能拷贝额外的数组。\n",
    "  * 题目分析：使用slow和fast两个指针，从头部开始遍历，遍历一次fast指针前进一步，当遍历元素不等于0，slow指针前进一步，这样不等于0的整数都被移动到数组的前面。\n"
   ]
  },
  {
   "cell_type": "code",
   "execution_count": 18,
   "metadata": {},
   "outputs": [],
   "source": [
    "def moveZeroes(nums):\n",
    "        \"\"\"\n",
    "        Do not return anything, modify nums in-place instead.\n",
    "        \"\"\"\n",
    "        fast, slow = 0, 0\n",
    "        while fast < len(nums):\n",
    "            if nums[fast] != 0:\n",
    "                nums[slow], nums[fast] = nums[fast], nums[slow]\n",
    "                slow += 1\n",
    "            fast += 1\n",
    "        return nums\n",
    "assert (moveZeroes([0,3,4,0,6]) == [3,4,6,0,0]), 'wrong'"
   ]
  },
  {
   "cell_type": "markdown",
   "metadata": {},
   "source": [
    "#### Remove Duplicates from Sorted Array\n",
    "  * Given a sorted array _nums_, remove the duplicates [**in-place**](https://en.wikipedia.org/wiki/In-place_algorithm) such that each element appear only _once_ and return the new length.\n",
    "  * 题目要求：这道题要我们从有序数组中去除重复项。\n",
    "  * 题目分析：这道题的解题思路是，我们使用快慢指针来记录遍历的坐标，最开始时两个指针都指向第2个数字，如果快指针指向的数等于慢指针的前1个数，则快指针向前走一步，如果不同，则两个指针都向前走一步，这样当快指针走完整个数组后，慢指针当前的坐标就是数组中不同数字的个数。\n"
   ]
  },
  {
   "cell_type": "code",
   "execution_count": 19,
   "metadata": {},
   "outputs": [],
   "source": [
    "def removeDuplicates(nums):\n",
    "        slow, fast = 1, 1\n",
    "        while fast < len(nums):\n",
    "            if nums[slow - 1] != nums[fast]:\n",
    "                nums[slow] = nums[fast]\n",
    "                slow +=1\n",
    "            fast += 1\n",
    "        return slow\n",
    "assert (removeDuplicates([0,0,3,3,4,6]) == 4), 'wrong'           "
   ]
  },
  {
   "cell_type": "markdown",
   "metadata": {},
   "source": [
    "#### [ Remove Duplicates from Sorted Array II](https://leetcode.com/problems/remove-duplicates-from-sorted-array-ii/)\n",
    "\n",
    "  * Given a sorted array _nums_, remove the duplicates [**in-place**](https://en.wikipedia.org/wiki/In-place_algorithm) such that duplicates appeared at most _twice_ and return the new length.\n",
    "  * 题目要求：这道题要我们从有序数组中去除重复项，每个数最多重复出现2次。\n",
    "  * 题目分析：与上一道解题思路相似，我们使用快慢指针来记录遍历的坐标，最开始时两个指针都指向第3个数字，如果快指针指向的数等于慢指针的前2个数，则快指针向前走一步，如果不同，则两个指针都向前走一步，这样当快指针走完整个数组后，慢指针当前的坐标就是数组中不同数字的个数。\n"
   ]
  },
  {
   "attachments": {},
   "cell_type": "markdown",
   "metadata": {},
   "source": [
    "#### [Find the Duplicate Number](https://leetcode.com/problems/find-the-duplicate-number/)\n",
    "\n",
    "  * Given an array _nums_ containing _n_ + 1 integers where each integer is between 1 and _n_(inclusive), prove that at least one duplicate number must exist. Assume that there is only one duplicate number, find the duplicate one.\n",
    "  * 题目要求：在一个长度为n+1的数组中，每个数都是1-n之间，只有一个数出现两次，其他的数都只出现过一次，请找出这个数。\n",
    "  * 题目分析：核心思想快慢指针，由于题目限定了区间[1,n]，所以可以巧妙的利用坐标和数值之间相互转换，而由于重复数字的存在，那么一定会形成环，我们用快慢指针可以找到环并确定环的起始位置，确实是太巧妙了！\n",
    "\n",
    "可以看到，当快慢指针相遇时，让其中任一个指针指向头节点，然后让它俩以相同速度前进，再次相遇时所在的节点位置就是环开始的位置。这是为什么呢？\n",
    "\n",
    "第一次相遇时，假设慢指针 slow 走了 k 步，那么快指针 fast 一定走了 2k 步，也就是说比 slow 多走了 k 步（也就是环的长度）。\n",
    "\n",
    "\n",
    "\n",
    "\n",
    "<img src=\"https://pic.leetcode-cn.com/e1b450b7a194ed50aed4d1f487fbb1cbf555e63df57cdd7dfcb042d8edea4fe8-file_1565458458185\" width=\"500\">\n",
    "\n",
    "\n",
    "设相遇点距环的起点的距离为 m，那么环的起点距头结点 head 的距离为 k - m，也就是说如果从 head 前进 k - m 步就能到达环起点。\n",
    "巧的是，如果从相遇点继续前进 k - m 步，也恰好到达环起点。\n",
    "\n",
    "<img src=\"https://pic.leetcode-cn.com/808833b049e96573dd1050650a9bc821140d0bc9cee454f36c7d652db86d459b-file_1565458458182\"  width=\"500\">\n",
    "\n",
    "所以，只要我们把快慢指针中的任一个重新指向 head，然后两个指针同速前进，k - m 步后就会相遇，相遇之处就是环的起点了。\n"
   ]
  },
  {
   "cell_type": "code",
   "execution_count": 20,
   "metadata": {},
   "outputs": [],
   "source": [
    "def findDuplicate(nums):\n",
    "    slow = nums[0]\n",
    "    fast = nums[slow]\n",
    "    while slow != fast:\n",
    "        slow = nums[slow]\n",
    "        fast = nums[nums[fast]]\n",
    "    fast = 0\n",
    "    while fast != slow:\n",
    "        fast = nums[fast]\n",
    "        slow = nums[slow]\n",
    "    return slow\n",
    "\n",
    "assert(findDuplicate([4,1,2,3,3]) == 3), 'wrong'"
   ]
  },
  {
   "cell_type": "markdown",
   "metadata": {},
   "source": [
    "### 双指针之后序指针相关题目"
   ]
  },
  {
   "cell_type": "markdown",
   "metadata": {},
   "source": [
    "#### Merge Sorted Array\n",
    "  * Given two sorted integer arrays _nums1_ and _nums2_, merge _nums2_ into _nums1_ as one sorted array.\n",
    "  * 题目要求：给定两个有序整数数组 nums1 和 nums2，将 nums2 合并到 nums1中，使得 num1 成为一个有序数组。你可以假设 nums1有足够的空间（空间大小大于或等于m + n）来保存 nums2 中的元素。在 nums1 和 nums2 中初始化的元素的数量分别是 m 和 n。\n",
    "  * 题目分析：算法思想是：由于合并后A数组的大小必定是m+n，所以从最后面开始往前赋值，先比较A和B中最后一个元素的大小，把较大的那个插入到m+n-1的位置上，再依次向前推。如果A中所有的元素都比B小，那么前m个还是A原来的内容，没有改变。如果A中的数组比B大的，当A循环完了，B中还有元素没加入A，直接用个循环把B中所有的元素覆盖到A剩下的位置。\n"
   ]
  },
  {
   "cell_type": "code",
   "execution_count": 21,
   "metadata": {},
   "outputs": [],
   "source": [
    "def merge(nums1, m, nums2, n):\n",
    "        \"\"\"\n",
    "        Do not return anything, modify nums1 in-place instead.\n",
    "        \"\"\"\n",
    "        left = m - 1\n",
    "        right = n - 1\n",
    "        while left >= 0 and right >= 0:\n",
    "            if nums1[left] > nums2[right]:\n",
    "                nums1[left + right + 1] = nums1[left]\n",
    "                left -= 1\n",
    "            else:\n",
    "                nums1[left + right + 1] = nums2[right]\n",
    "                right -= 1\n",
    "        \n",
    "        while right >= 0:\n",
    "            nums1[right] = nums2[right]\n",
    "            right -= 1\n",
    "        return nums1\n",
    "assert (merge([4,7,0,0], 2, [2,6], 2) == [2,4,6,7]), 'wrong'"
   ]
  },
  {
   "cell_type": "code",
   "execution_count": null,
   "metadata": {},
   "outputs": [],
   "source": []
  }
 ],
 "metadata": {
  "kernelspec": {
   "display_name": "Python 3",
   "language": "python",
   "name": "python3"
  },
  "language_info": {
   "codemirror_mode": {
    "name": "ipython",
    "version": 3
   },
   "file_extension": ".py",
   "mimetype": "text/x-python",
   "name": "python",
   "nbconvert_exporter": "python",
   "pygments_lexer": "ipython3",
   "version": "3.7.9"
  },
  "toc": {
   "base_numbering": 1,
   "nav_menu": {},
   "number_sections": true,
   "sideBar": true,
   "skip_h1_title": false,
   "title_cell": "Table of Contents",
   "title_sidebar": "Contents",
   "toc_cell": false,
   "toc_position": {},
   "toc_section_display": true,
   "toc_window_display": false
  },
  "varInspector": {
   "cols": {
    "lenName": 16,
    "lenType": 16,
    "lenVar": 40
   },
   "kernels_config": {
    "python": {
     "delete_cmd_postfix": "",
     "delete_cmd_prefix": "del ",
     "library": "var_list.py",
     "varRefreshCmd": "print(var_dic_list())"
    },
    "r": {
     "delete_cmd_postfix": ") ",
     "delete_cmd_prefix": "rm(",
     "library": "var_list.r",
     "varRefreshCmd": "cat(var_dic_list()) "
    }
   },
   "types_to_exclude": [
    "module",
    "function",
    "builtin_function_or_method",
    "instance",
    "_Feature"
   ],
   "window_display": false
  }
 },
 "nbformat": 4,
 "nbformat_minor": 4
}
