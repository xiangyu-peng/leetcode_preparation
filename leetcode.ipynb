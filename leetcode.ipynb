{
 "cells": [
  {
   "cell_type": "markdown",
   "metadata": {},
   "source": [
    "### Hash Table"
   ]
  },
  {
   "attachments": {
    "image.png": {
     "image/png": "[encoded data removed]"
    }
   },
   "cell_type": "markdown",
   "metadata": {},
   "source": [
    "#### Big O time\n",
    "![image.png](attachment:image.png)"
   ]
  },
  {
   "cell_type": "markdown",
   "metadata": {},
   "source": [
    "#### Intro\n",
    "* 特点：\n",
    "    * 哈希函数 h 是从一个大集合到一个小集合的映射 **|KEY| >> |INDEX|**\n",
    "    * 很容易产生“**冲突**”现象，即： key1 != key2，而  f(key1) = f(key2)。\n",
    "    * 降低时间复杂度\n",
    "        \n",
    "    \n",
    "* 哈希函数的设计\n",
    "\n",
    "    * 设计要求：\n",
    "        * 函数应能把关键码映射到值域INDEX中尽可能大的部分\n",
    "        * 不同关键码的哈希值在INDEX里均匀分布，有可能减少冲突\n",
    "        * 哈希函数的计算应该相对简单\n",
    "        \n",
    "    * 设计方法：\n",
    "        * **除余法**\n",
    "            * 关键码 key 是整数，用key除以某个不大于哈希表长度m的整数p，得到的余数（或者余数加上l，由下标开始值确定）作为哈希地址\n",
    "            * 为了存储管理方便，人们经常将m取为2的某个幂值，此时p可以取小于m的最大素数\n",
    "            * 例如，当m取128、256、512、1024时，p可以分别取127、251、503、1023。            \n",
    "            * 注意，设计哈希函数的一个基本思想就是尽可能的使得到的结果没有规律，在采用除余法时，如果用偶数作为除数，就会出现偶数关键码映射到偶数哈希值，奇数关键码映射到奇数哈希值的情况，这种情况应该避免\n",
    "        \n",
    "        * **基数转换法**\n",
    "            * 先考虑整数关键码，取一个正整数r把关键码看作基数为r（r进制数），将其转换为十进制或二进制数，通常r取素数以减少规律性\n",
    "            * 如r取13，对于关键码335647，可转换为十进制(335647)_13 = 7 * 1 + 4 * 13 +... = ... 提取其中若干为作为X的哈希值。一般取大于原来基数的数作为转换的基数，并且两个基数应该是互素的。\n",
    "            * 当遇到字符串作为关键码时，可以把一个字符看作一个整数，对字符串进行编码，再采用同样的方法，这里给一个简单的字符串哈希函数\n",
    "        \n",
    "    \n",
    "* 冲突消解机制\n",
    "    * 内消解方法，即在基本存储区内部解决冲突问题 / 开放定址法\n",
    "        * 当关键字key的哈希地址p=H（key）出现冲突时，以p为基础，产生另一个哈希地址p1，如果p1仍然冲突，再以p为基础，产生另一个哈希地址p2，…，直到找出一个不冲突的哈希地址pi ，将相应元素存入其中。\n",
    "        * 通用的再散列函数形式：Hi=（H（key）+di）% m   i=1，2，…，n, 其中H（key）为哈希函数，m 为表长，di称为增量序列\n",
    "        * 例子：哈希表长度m=11，哈希函数为：H（key）= key % 11，则 H（47）=3，H（26）=4，H（60）=5，假设下一个关键字为69，则H（69）=3，与47冲突。如果用线性探测再散列处理冲突，下一个哈希地址为H1=（3 + 1）% 11 = 4，仍然冲突，再找下一个哈希地址为H2=（3 + 2）% 11 = 5，还是冲突，继续找下一个哈希地址为H3=（3 + 3）% 11 = 6，此时不再冲突，将69填入5号单元。\n",
    "        \n",
    "    * 冲突的外消解：溢出区方法\n",
    "        * 外消解基数里常用的一种技术是另外设置一个益处存储区，当插入关键码的哈希表位置没有数据时就直接插入，发生冲突时就将相应数据和关键码一起存入溢出区\n",
    "    "
   ]
  },
  {
   "cell_type": "markdown",
   "metadata": {},
   "source": [
    "#### Leetcode 题目"
   ]
  },
  {
   "cell_type": "markdown",
   "metadata": {},
   "source": [
    "204. Count Primes 筛选素数\n",
    "* 普通筛选法(BAD)\n",
    "    * 基本思想：素数的倍数一定不是素数\n",
    "    * 实现方法：用一个长度为N+1的数组保存信息（0表示素数，1表示非素数），先假设所有的数都是素数（初始化为0），从第一个素数2开始，把2的倍数都标记为非素数（置为1），一直到大于N；然后进行下一趟，找到2后面的下一个素数3，进行同样的处理，直到最后，数组中依然为0的数即为素数。\n",
    "    * 说明：整数1特殊处理即可。\n",
    "    * 时间复杂度是O(nloglogn) 空间复杂度是O(n)\n",
    "* **Sieve of Eratosthenes**  时间复杂度为nlogn\n",
    "    * 定理：一个数如果不能被从2开始到自身开根号范围内的整数整除，则它是素数\n",
    "    "
   ]
  },
  {
   "cell_type": "code",
   "execution_count": 21,
   "metadata": {
    "code_folding": [
     2
    ]
   },
   "outputs": [
    {
     "data": {
      "text/plain": [
       "10"
      ]
     },
     "execution_count": 21,
     "metadata": {},
     "output_type": "execute_result"
    }
   ],
   "source": [
    "import math\n",
    "# 思想：每个prime的倍数都剔除\n",
    "def countPrimes(n: int) -> int: # O(n) 空间复杂度是O(n)\n",
    "    if n <= 2:\n",
    "        return 0        \n",
    "    primes = [1] * (n - 2)   \n",
    "    # 只考虑到根号n，因为到根号n为止，过滤后还是prime的，n以内的数字就是prime\n",
    "    for i in range(0, int(math.sqrt(n))):  # O(n)\n",
    "        prime = i + 2\n",
    "        if primes[i] == 1:\n",
    "            # 对于每个prime 都让他的倍数 剔除。 但是可以从prime的平方开始，因为他之内的现在还是prime的都肯定是prime\n",
    "            ranges = prime if prime == 2 else prime * 2\n",
    "            for j in range(prime ** 2, n, ranges): \n",
    "                primes[j - 2] = 0                    \n",
    "    return sum(primes)\n",
    "\n",
    "countPrimes(30)"
   ]
  },
  {
   "cell_type": "code",
   "execution_count": null,
   "metadata": {},
   "outputs": [],
   "source": []
  }
 ],
 "metadata": {
  "kernelspec": {
   "display_name": "Python 3",
   "language": "python",
   "name": "python3"
  },
  "language_info": {
   "codemirror_mode": {
    "name": "ipython",
    "version": 3
   },
   "file_extension": ".py",
   "mimetype": "text/x-python",
   "name": "python",
   "nbconvert_exporter": "python",
   "pygments_lexer": "ipython3",
   "version": "3.7.9"
  },
  "toc": {
   "base_numbering": 1,
   "nav_menu": {},
   "number_sections": true,
   "sideBar": true,
   "skip_h1_title": false,
   "title_cell": "Table of Contents",
   "title_sidebar": "Contents",
   "toc_cell": false,
   "toc_position": {},
   "toc_section_display": true,
   "toc_window_display": false
  },
  "varInspector": {
   "cols": {
    "lenName": 16,
    "lenType": 16,
    "lenVar": 40
   },
   "kernels_config": {
    "python": {
     "delete_cmd_postfix": "",
     "delete_cmd_prefix": "del ",
     "library": "var_list.py",
     "varRefreshCmd": "print(var_dic_list())"
    },
    "r": {
     "delete_cmd_postfix": ") ",
     "delete_cmd_prefix": "rm(",
     "library": "var_list.r",
     "varRefreshCmd": "cat(var_dic_list()) "
    }
   },
   "types_to_exclude": [
    "module",
    "function",
    "builtin_function_or_method",
    "instance",
    "_Feature"
   ],
   "window_display": false
  }
 },
 "nbformat": 4,
 "nbformat_minor": 4
}
