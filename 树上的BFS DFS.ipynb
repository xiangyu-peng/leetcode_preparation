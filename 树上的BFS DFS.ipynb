{
 "cells": [
  {
   "cell_type": "markdown",
   "metadata": {},
   "source": [
    "### Tree Breadth First Search，树上的BFS\n",
    "这种模式基于宽搜（Breadth First Search (BFS)），适用于需要遍历一颗树。借助于队列数据结构，从而能保证树的节点按照他们的层数打印出来。打印完当前层所有元素，才能执行到下一层。所有这种需要遍历树且需要一层一层遍历的问题，都能用这种模式高效解决。\n",
    "\n",
    "这种树上的BFS模式是通过把根节点加到队列中，然后不断遍历直到队列为空。每一次循环中，我们都会把队头结点拿出来（remove），然后对其进行必要的操作。在删除每个节点的同时，其孩子节点，都会被加到队列中。\n",
    "\n",
    "识别树上的BFS模式：\n",
    "\n",
    "  * 如果你被问到去遍历树，需要按层操作的方式（也称作层序遍历）\n",
    "\n"
   ]
  },
  {
   "cell_type": "markdown",
   "metadata": {},
   "source": [
    "#### ZigZag Conversion\n",
    "The string `\"PAYPALISHIRING\"` is written in a zigzag pattern on a given number of rows like this: (you may want to display this pattern in a fixed font for better legibility)\n",
    "    \n",
    "    P A H N A P L S I I G Y I R \n",
    "\n",
    "And then read line by line: `\"PAHNAPLSIIGYIR\"`\n",
    "\n",
    "Write the code that will take a string and make this conversion given a number of rows:\n",
    "    \n",
    "    string convert(string s, int numRows); \n",
    "\n",
    " \n",
    "\n",
    "**Example 1:**\n",
    "    \n",
    "**Input:** s = \"PAYPALISHIRING\", numRows = 3 \n",
    "\n",
    "**Output:** \"PAHNAPLSIIGYIR\" \n",
    "\n",
    "**Example 2:**\n",
    "    \n",
    "**Input:** s = \"PAYPALISHIRING\", numRows = 4 \n",
    "\n",
    "**Output:** \"PINALSIGYAHRPI\" \n",
    "\n",
    "**Explanation:** P I N A L S I G Y A H R P I \n",
    "\n",
    "**Example 3:**\n",
    "    \n",
    "**Input:** s = \"A\", numRows = 1 \n",
    "\n",
    "**Output:** \"A\"\n"
   ]
  },
  {
   "cell_type": "code",
   "execution_count": 1,
   "metadata": {},
   "outputs": [],
   "source": [
    "def convert(s, numRows):\n",
    "        if numRows == 1:\n",
    "            return s\n",
    "        strs = [''] * numRows\n",
    "        i = 0\n",
    "        right = False\n",
    "        for _s in s:\n",
    "            strs[i] += _s\n",
    "            if i == numRows - 1 or i == 0:\n",
    "                if right:\n",
    "                    right = False\n",
    "                else:\n",
    "                    right = True\n",
    "            if right:\n",
    "                i += 1\n",
    "            else:\n",
    "                i -= 1\n",
    "        return ''.join(strs)\n",
    "assert(convert(\"PAYPALISHIRING\", 4) == \"PINALSIGYAHRPI\"), 'wrong'"
   ]
  },
  {
   "cell_type": "markdown",
   "metadata": {},
   "source": [
    "### Tree Depth First Search，树上的DFS\n",
    "树形DFS基于深搜（Depth First Search (DFS)）技术来实现树的遍历。\n",
    "\n",
    "咱们可以用递归（或是显示栈，如果你想用迭代方式的话）来记录遍历过程中访问过的父节点。\n",
    "\n",
    "该模式的运行方式是从根节点开始，如果该节点不是叶子节点，我们需要干三件事：\n",
    "\n",
    "  1. 需要区别我们是先处理根节点（pre-order，前序），处理孩子节点之间处理根节点（in-order，中序），还是处理完所有孩子再处理根节点（post-order，后序）。\n",
    "  2. 递归处理当前节点的左右孩子。\n",
    "\n",
    "识别树形DFS：\n",
    "\n",
    "  * 你需要按前中后序的DFS方式遍历树\n",
    "  * 如果该问题的解一般离叶子节点比较近。\n"
   ]
  },
  {
   "cell_type": "code",
   "execution_count": null,
   "metadata": {},
   "outputs": [],
   "source": []
  }
 ],
 "metadata": {
  "kernelspec": {
   "display_name": "Python 3",
   "language": "python",
   "name": "python3"
  },
  "language_info": {
   "codemirror_mode": {
    "name": "ipython",
    "version": 3
   },
   "file_extension": ".py",
   "mimetype": "text/x-python",
   "name": "python",
   "nbconvert_exporter": "python",
   "pygments_lexer": "ipython3",
   "version": "3.7.9"
  },
  "toc": {
   "base_numbering": 1,
   "nav_menu": {},
   "number_sections": true,
   "sideBar": true,
   "skip_h1_title": false,
   "title_cell": "Table of Contents",
   "title_sidebar": "Contents",
   "toc_cell": false,
   "toc_position": {},
   "toc_section_display": true,
   "toc_window_display": false
  },
  "varInspector": {
   "cols": {
    "lenName": 16,
    "lenType": 16,
    "lenVar": 40
   },
   "kernels_config": {
    "python": {
     "delete_cmd_postfix": "",
     "delete_cmd_prefix": "del ",
     "library": "var_list.py",
     "varRefreshCmd": "print(var_dic_list())"
    },
    "r": {
     "delete_cmd_postfix": ") ",
     "delete_cmd_prefix": "rm(",
     "library": "var_list.r",
     "varRefreshCmd": "cat(var_dic_list()) "
    }
   },
   "types_to_exclude": [
    "module",
    "function",
    "builtin_function_or_method",
    "instance",
    "_Feature"
   ],
   "window_display": false
  }
 },
 "nbformat": 4,
 "nbformat_minor": 4
}
